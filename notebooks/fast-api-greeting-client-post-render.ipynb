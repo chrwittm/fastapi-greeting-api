{
 "cells": [
  {
   "cell_type": "markdown",
   "id": "743dfac4",
   "metadata": {},
   "source": [
    "# Greeting Client (POST Request) - Render\n",
    "\n",
    "This notebook demonstrates how to call the FastAPI greeting server using a POST request with a JSON payload.\n",
    "\n",
    "When you try to call the API, please be patient during the first call, because the service on Render might be sleeping and needs to wake up.\n",
    "\n",
    "For all the technical details, please refer to my blog posts:\n",
    "\n",
    "- [Implementing a Greeting API with FastAPI](https://chrwittm.github.io/posts/2025-07-08-implementing-fastapi-greeting/)\n",
    "- [Deploying a FastAPI App to the Cloud](https://chrwittm.github.io/posts/2025-07-09-deploying-fastapi-app-on-render/)"
   ]
  },
  {
   "cell_type": "code",
   "execution_count": 1,
   "id": "07a8c502",
   "metadata": {},
   "outputs": [],
   "source": [
    "name = \"Christian\""
   ]
  },
  {
   "cell_type": "code",
   "execution_count": 2,
   "id": "f5991daf",
   "metadata": {},
   "outputs": [
    {
     "name": "stdout",
     "output_type": "stream",
     "text": [
      "Status code: 200\n",
      "Response: {'message': 'Hello Christian'}\n"
     ]
    }
   ],
   "source": [
    "import requests\n",
    "\n",
    "# Define the endpoint and the data payload\n",
    "#url = \"http://127.0.0.1:8000/greet\" # API deployed locally\n",
    "url = \"https://fastapi-greeting-api.onrender.com/greet\" # API deployed on Render\n",
    "data = {\"name\": name }\n",
    "\n",
    "# Send POST request\n",
    "response = requests.post(url, json=data)\n",
    "\n",
    "# Show result\n",
    "print(\"Status code:\", response.status_code)\n",
    "print(\"Response:\", response.json())"
   ]
  }
 ],
 "metadata": {
  "kernelspec": {
   "display_name": "base",
   "language": "python",
   "name": "python3"
  },
  "language_info": {
   "codemirror_mode": {
    "name": "ipython",
    "version": 3
   },
   "file_extension": ".py",
   "mimetype": "text/x-python",
   "name": "python",
   "nbconvert_exporter": "python",
   "pygments_lexer": "ipython3",
   "version": "3.10.12"
  }
 },
 "nbformat": 4,
 "nbformat_minor": 5
}
