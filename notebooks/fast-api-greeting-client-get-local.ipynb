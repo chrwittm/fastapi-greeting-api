{
 "cells": [
  {
   "cell_type": "markdown",
   "id": "743dfac4",
   "metadata": {},
   "source": [
    "# Greeting Client (GET Request)\n",
    "\n",
    "This notebook demonstrates how to call the FastAPI greeting server using a GET request with a URL query parameter.\n",
    "\n",
    "To call the API you need start the [FastAPI greeting server](fast-api-greeting-server.ipynb) first.\n",
    "\n",
    "For all the technical details, please refer to my blog post [BLOG POST](fast-api-greeting-server.ipynb)."
   ]
  },
  {
   "cell_type": "code",
   "execution_count": 5,
   "id": "07a8c502",
   "metadata": {},
   "outputs": [],
   "source": [
    "name = \"Christian\""
   ]
  },
  {
   "cell_type": "code",
   "execution_count": 2,
   "id": "f5991daf",
   "metadata": {},
   "outputs": [
    {
     "name": "stdout",
     "output_type": "stream",
     "text": [
      "Status code: 200\n",
      "Response: {'message': 'Hello Christian'}\n"
     ]
    }
   ],
   "source": [
    "import requests\n",
    "\n",
    "# Define the endpoint and query parameter\n",
    "name = \"Christian\"  # or whatever value you'd like\n",
    "url = f\"http://127.0.0.1:8000/greet?name={name}\"\n",
    "\n",
    "# Send GET request\n",
    "response = requests.get(url)\n",
    "\n",
    "# Show result\n",
    "print(\"Status code:\", response.status_code)\n",
    "print(\"Response:\", response.json())"
   ]
  }
 ],
 "metadata": {
  "kernelspec": {
   "display_name": "base",
   "language": "python",
   "name": "python3"
  },
  "language_info": {
   "codemirror_mode": {
    "name": "ipython",
    "version": 3
   },
   "file_extension": ".py",
   "mimetype": "text/x-python",
   "name": "python",
   "nbconvert_exporter": "python",
   "pygments_lexer": "ipython3",
   "version": "3.10.12"
  }
 },
 "nbformat": 4,
 "nbformat_minor": 5
}
